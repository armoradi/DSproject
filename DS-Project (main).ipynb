{
 "cells": [
  {
   "cell_type": "code",
   "execution_count": 251,
   "id": "c4065dbd",
   "metadata": {},
   "outputs": [],
   "source": [
    "#import_Libraries\n",
    "import numpy as np\n",
    "from matplotlib import pyplot as plt\n",
    "import math\n",
    "from datetime import datetime\n"
   ]
  },
  {
   "cell_type": "code",
   "execution_count": 464,
   "id": "0b724487",
   "metadata": {},
   "outputs": [],
   "source": [
    "class Node:\n",
    "    #این کلاس به ایجاد درایه های ماتریس میپردازد هر نود دارای یک مقدار کلید هست که در آن آدرس(مختصات درایه\n",
    "    # و مقدار آن درایه نگه داری می شود\n",
    "    def __init__(self,row_number,col_number,value):\n",
    "        self.key = (row_number,col_number)\n",
    "        self.row_number = row_number\n",
    "        self.col_number = col_number\n",
    "        self.value = value\n",
    "        \n",
    "    def find_Nodes(array):\n",
    "        # به این تابع یک آرایه پاس داده میشود و از آن آرایه مقادیر غیر صفر را بر میگرداند\n",
    "        #Finding zeros Nodes and return them from an array\n",
    "        output=[]\n",
    "        for i in range(len(array)):\n",
    "            for j in range(len(array[0])):\n",
    "                if array[i][j]!=0:\n",
    "                    New_Node=Node(i,j,array[i][j])\n",
    "                    output.append(New_Node)\n",
    "        return [output,array]\n",
    "                    \n",
    "        \n",
    "class mat:\n",
    "    \n",
    "    def __init__(self,col,row,count_full=0,mat_type = None):\n",
    "        self.col = col\n",
    "        self.row = row\n",
    "        self.keys = []\n",
    "        self.dict = {}\n",
    "        self.coo = [self.dict]\n",
    "        #self.coo saves matirx using COO method.\n",
    "        self.count_full = len(self.keys)\n",
    "        #it count nomber of full Nodes in matrix it's equal to Len of keys\n",
    "        self.mat_type = None\n",
    "        self.sparsity = 1-(len(self.keys)/(self.row*self.col)) \n",
    "        self.ord=[]\n",
    "\n",
    "        \n",
    "    def make_coo(self):\n",
    "        self.coo.append([self.col,self.row])\n",
    "        \n",
    "    def convert_to_matrix(array):\n",
    "        #getting an array and convrt it to a matrix\n",
    "        new_mat = mat(len(array),len(array[0]))\n",
    "        new_mat.ord = Node.find_Nodes(array)[1]\n",
    "        for i in Node.find_Nodes(array)[0]:\n",
    "            new_mat.insert(i)\n",
    "        new_mat.find_type()\n",
    "        return new_mat\n",
    "        \n",
    "    def insert(self,New_Node):   \n",
    "        #insert a New Node to the matrix\n",
    "        if New_Node.key not in self. keys:\n",
    "            if New_Node.value!=0:\n",
    "                self.keys.append(New_Node.key)\n",
    "                self.dict[New_Node.key] = New_Node.value\n",
    "                self.ord[New_Node.key[0]][New_Node.key[1]]=New_Node.value\n",
    "            #else:\n",
    "                    #self.ord[New_Node.key[0]][New_Node.key[1]]= 0 \n",
    "        else:\n",
    "            self.keys.remove(New_Node.key)\n",
    "            mat.insert(self,New_Node)\n",
    "        \n",
    "        if New_Node.key[0]>self.row:\n",
    "            self.row += 1\n",
    "        if New_Node.key[1]>self.col:\n",
    "            self.col += 1\n",
    "        \n",
    "        self.find_type()\n",
    "\n",
    "        \n",
    "    \n",
    "    def find_type(self):\n",
    "        #finding the Type of matrix, if the density was grater than 60% the matrix is not sparse\n",
    "        self.sparsity = 1-(len(self.keys)/(self.col*self.row))\n",
    "        \n",
    "        if (len(self.keys)/(self.col*self.row)) > 0.6:\n",
    "            self.mat_type = \"ordinary\"\n",
    "        else:\n",
    "            self.mat_type = \"sparse\"\n",
    "        \n",
    "        return self.mat_type\n",
    "    \n",
    "    def remove_Node(self,Node_adrees):\n",
    "        self.ord[Node_adrees[0]][Node_adrees[1]]= 0\n",
    "        self.keys.remove(Node_adrees)\n",
    "        self.dict.pop(Node_adrees)\n",
    "        self.find_type()\n",
    "\n",
    "    def plus_function(mat1,mat2):\n",
    "        #using plus function for COO matrix, this function uses to add two sparse matrix\n",
    "        sum_mat = mat(mat1.row,mat1.col)\n",
    "        sum_mat.ord = mat1.ord[:][:]\n",
    "        for i in mat1.keys:\n",
    "                sum_mat.insert(Node(i[0],i[1],(mat1.coo[0].get(i))))\n",
    "            \n",
    "        for i in mat2.keys:\n",
    "            if i not in sum_mat.keys:\n",
    "                sum_mat.insert(Node(i[0],i[1],(mat2.coo[0].get(i))))\n",
    "            else: \n",
    "                sum_mat.insert(Node(i[0],i[1],(mat1.coo[0].get(i)+mat2.coo[0].get(i))))\n",
    "        \n",
    "        return sum_mat\n",
    "    \n",
    "    def return_value(self,key):\n",
    "        #returning the value of a matrix by getting the key\n",
    "        if key in self.keys:\n",
    "            return self.coo[0].get(key)\n",
    "        else:\n",
    "            return \"The key's value is null\"\n",
    "    \n",
    "    def regular_plus_function(array1,array2,n):\n",
    "        #using plus function for regular matrix, this function uses to add two regular matrix\n",
    "        sum_mat=array1[:][:]\n",
    "        for i in range(n):\n",
    "            for j in range(n):\n",
    "                sum_mat[i][j]=array1[i][j]+array2[i][j]\n",
    "        return sum_mat\n",
    "    \n",
    "    def auto_plus(mat1,mat2):\n",
    "        # این تابع با توجه به شلوغی ماتریس تصمیم میگیرد که از چه نوع جمعی استفاده کند\n",
    "        if mat1.find_type == \"sparse\" or mat1.find_type == \"sparse\":\n",
    "            mat.plus_function(mat1,mat2)\n",
    "            \n",
    "        if mat1.find_type == \"ordinary\" and mat1.find_type == \"ordinary\":\n",
    "            mat.regular_plus_function(mat1.ord,mat2.ord)\n",
    "    \n",
    "    def ordinary_multiply(array1,array2):\n",
    "        #از این تابع برای ضرب ماتریس های شلوغ به شکل معمولی استفاده میشود.\n",
    "        result=[[0 for i in range(len(array2[0]))] for j in range(len(array1))]\n",
    "        for i in range(len(array1)):\n",
    "            for j in range(len(array2[0])):\n",
    "                for k in range(len(array1[0])):\n",
    "                    result[i][j]+= array1[i][k]*array2[k][j]\n",
    "        return result\n",
    "\n",
    "        \n",
    "    def sparse_multiply(mat1,mat2):\n",
    "        #این تابع دو ماتریس خلوت را به سبک ماتریس بهینه شده در هم ضرب میکند\n",
    "        result=[[0 for i in range(mat2.col)] for j in range(mat1.row)]\n",
    "        for c in mat1.dict:\n",
    "            i=c[0]\n",
    "            k=c[1]\n",
    "            for d in mat2.dict:\n",
    "                if k==d[0]:\n",
    "                    j=d[1]\n",
    "                    result[i][j]+=mat1.dict[(i,k)]*mat2.dict[(k,j)]\n",
    "        \n",
    "        return(mat.convert_to_matrix(result))\n",
    "    \n",
    "    def auto_multiply(mat1,mat2):\n",
    "                # این تابع با توجه به شلوغی ماتریس تصمیم میگیرد که از چه نوع ضربی استفاده کند\n",
    "        if mat1.mat_type == \"sparse\" or mat1.mat_type == \"sparse\":\n",
    "            mat.spare_multiply(mat1,mat2)\n",
    "            \n",
    "        if mat1.mat_type == \"ordinary\" and mat1.mat_type == \"ordinary\":\n",
    "            mat.ordinary_multiply(mat1,mat2)\n",
    "            \n",
    "    def printmat(mat):\n",
    "        #ماتریس را برمیگرداند\n",
    "        if mat.mat_type == \"sparse\":\n",
    "            print(mat.coo)\n",
    "            \n",
    "        else:\n",
    "            \n",
    "            print(mat.ord)\n",
    "           \n",
    "        \n",
    "     "
   ]
  },
  {
   "cell_type": "code",
   "execution_count": 378,
   "id": "2d02dca8",
   "metadata": {},
   "outputs": [],
   "source": [
    "#making test cases\n",
    "def make_random_mat(row,col,non_zeros):\n",
    "    #این تابع ماتریس های تصادفی به شکل ماتریس بهینه شده خلوت ایجاد میکند ورودی اول و دوم به\n",
    "    #ترتیب تعداد سطر و ستون ها و ورودی سوم تعداد عناصر غیر صفر است\n",
    "    #making COO random matrix\n",
    "    randmat = [([0]*row) for i in range(col)]\n",
    "    count = 0\n",
    "    while count<non_zeros:\n",
    "        i = np.random.randint(0,row)\n",
    "        j = np.random.randint(0,col)\n",
    "        if randmat[i][j]==0:\n",
    "            randmat[i][j]=np.random.randint(1000)\n",
    "            count+=1\n",
    "    outputmat = mat.convert_to_matrix(randmat)\n",
    "    outputmat.ord = \n",
    "    return outputmat\n",
    "\n",
    "\n",
    "def make_random_ordinary_mat(row,col,non_zeros):\n",
    "    #این تابع به سبک تابع بالا است منتهی ماتریس عادی میسازد\n",
    "    #making ordinary random matrix for test cases\n",
    "    randmat = np.zeros((row,col),dtype = int)\n",
    "    count = 0\n",
    "    while count<non_zeros:\n",
    "        i = np.random.randint(0,row)\n",
    "        j = np.random.randint(0,col)\n",
    "        if randmat[i][j]==0:\n",
    "            randmat[i][j]=np.random.randint(10000)\n",
    "            count+=1\n",
    "    return randmat\n"
   ]
  },
  {
   "cell_type": "code",
   "execution_count": 386,
   "id": "2e73d3a4",
   "metadata": {},
   "outputs": [
    {
     "name": "stdout",
     "output_type": "stream",
     "text": [
      "[{(0, 1): 304, (0, 2): 325, (0, 3): 183, (1, 3): 268, (2, 2): 208}]\n"
     ]
    }
   ],
   "source": [
    "my_mat = make_random_mat(4,4,5)\n",
    "my_mat.printmat()"
   ]
  },
  {
   "cell_type": "code",
   "execution_count": 388,
   "id": "e88aec31",
   "metadata": {},
   "outputs": [
    {
     "name": "stdout",
     "output_type": "stream",
     "text": [
      "[{(0, 1): 304, (0, 2): 325, (0, 3): 121, (1, 3): 268, (2, 2): 208}]\n"
     ]
    }
   ],
   "source": [
    "my_mat.insert(Node(0,3,121))\n",
    "my_mat.printmat()"
   ]
  },
  {
   "cell_type": "code",
   "execution_count": 391,
   "id": "e6a22fb1",
   "metadata": {},
   "outputs": [
    {
     "data": {
      "text/plain": [
       "325"
      ]
     },
     "execution_count": 391,
     "metadata": {},
     "output_type": "execute_result"
    }
   ],
   "source": [
    "my_mat.return_value((0,2))"
   ]
  },
  {
   "cell_type": "code",
   "execution_count": 389,
   "id": "52f22c76",
   "metadata": {},
   "outputs": [
    {
     "data": {
      "text/plain": [
       "'sparse'"
      ]
     },
     "execution_count": 389,
     "metadata": {},
     "output_type": "execute_result"
    }
   ],
   "source": [
    "my_mat.mat_type"
   ]
  },
  {
   "cell_type": "code",
   "execution_count": 460,
   "id": "53c6448b",
   "metadata": {},
   "outputs": [
    {
     "data": {
      "text/plain": [
       "'ordinary'"
      ]
     },
     "execution_count": 460,
     "metadata": {},
     "output_type": "execute_result"
    }
   ],
   "source": [
    "my_mat2=make_random_mat(3,3,7)\n",
    "my_mat2.mat_type"
   ]
  },
  {
   "cell_type": "code",
   "execution_count": 461,
   "id": "ff6a52c0",
   "metadata": {},
   "outputs": [
    {
     "name": "stdout",
     "output_type": "stream",
     "text": [
      "[{(0, 0): 135, (0, 1): 216, (1, 2): 228, (1, 3): 113, (2, 2): 102, (2, 4): 977, (3, 0): 908, (3, 2): 662, (4, 2): 298, (4, 4): 27}]\n",
      "[{(0, 2): 403, (1, 2): 317, (1, 4): 835, (2, 0): 734, (2, 2): 282, (3, 0): 958, (3, 4): 889}]\n",
      "[{(0, 0): 135, (0, 1): 216, (1, 2): 545, (1, 3): 113, (2, 2): 384, (2, 4): 977, (3, 0): 1866, (3, 2): 662, (4, 2): 298, (4, 4): 27, (0, 2): 403, (1, 4): 835, (2, 0): 734, (3, 4): 889}]\n"
     ]
    }
   ],
   "source": [
    "rndmat1 = make_random_mat(5,5,10)\n",
    "rndmat2 = make_random_mat(5,5,7)\n",
    "rndmat1.printmat()\n",
    "rndmat2.printmat()\n",
    "sum_mat = mat.plus_function(rndmat1,rndmat2)\n",
    "sum_mat.printmat()"
   ]
  },
  {
   "cell_type": "code",
   "execution_count": 459,
   "id": "d36fa6cd",
   "metadata": {},
   "outputs": [
    {
     "data": {
      "text/plain": [
       "0"
      ]
     },
     "execution_count": 459,
     "metadata": {},
     "output_type": "execute_result"
    }
   ],
   "source": [
    "new_node=Node(1,1,620)\n",
    "rndmat2.ord[new_node.key[0]][new_node.key[1]]\n"
   ]
  },
  {
   "cell_type": "code",
   "execution_count": 463,
   "id": "d77c30a3",
   "metadata": {},
   "outputs": [
    {
     "name": "stdout",
     "output_type": "stream",
     "text": [
      "[{(0, 0): 986, (1, 0): 295, (2, 0): 79, (2, 1): 841, (2, 3): 901, (3, 1): 630, (3, 4): 944, (4, 1): 326, (4, 2): 311, (4, 3): 191}]\n",
      "[{(0, 3): 689, (0, 4): 932, (1, 4): 339, (2, 2): 22, (2, 3): 208, (2, 4): 73, (3, 2): 76}]\n",
      "[{(0, 3): 679354, (0, 4): 918952, (1, 3): 203255, (1, 4): 274940, (2, 2): 68476, (2, 3): 54431, (2, 4): 358727, (3, 4): 213570, (4, 2): 21358, (4, 3): 64688, (4, 4): 133217}]\n"
     ]
    }
   ],
   "source": [
    "rndmat1 = make_random_mat(5,5,10)\n",
    "rndmat2 = make_random_mat(5,5,7)\n",
    "rndmat1.printmat()\n",
    "rndmat2.printmat()\n",
    "sum_mat = mat.sparse_multiply(rndmat1,rndmat2)\n",
    "sum_mat.printmat()"
   ]
  },
  {
   "cell_type": "code",
   "execution_count": 467,
   "id": "3e8d4dda",
   "metadata": {},
   "outputs": [
    {
     "data": {
      "text/plain": [
       "[<__main__.Node at 0x1641cc48fa0>,\n",
       " <__main__.Node at 0x1641cc48e50>,\n",
       " <__main__.Node at 0x1641cc48670>]"
      ]
     },
     "execution_count": 467,
     "metadata": {},
     "output_type": "execute_result"
    }
   ],
   "source": [
    "Node.find_Nodes([[1,0,2],[0,1,0]])[0]"
   ]
  },
  {
   "cell_type": "code",
   "execution_count": null,
   "id": "e9e05dd5",
   "metadata": {},
   "outputs": [],
   "source": []
  }
 ],
 "metadata": {
  "kernelspec": {
   "display_name": "Python 3 (ipykernel)",
   "language": "python",
   "name": "python3"
  },
  "language_info": {
   "codemirror_mode": {
    "name": "ipython",
    "version": 3
   },
   "file_extension": ".py",
   "mimetype": "text/x-python",
   "name": "python",
   "nbconvert_exporter": "python",
   "pygments_lexer": "ipython3",
   "version": "3.9.12"
  }
 },
 "nbformat": 4,
 "nbformat_minor": 5
}
